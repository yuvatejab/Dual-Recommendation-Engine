{
 "cells": [
  {
   "cell_type": "code",
   "execution_count": 3,
   "id": "6aa2e192",
   "metadata": {},
   "outputs": [],
   "source": [
    "import pandas as pd\n",
    "import numpy as np\n",
    "from surprise import Dataset, Reader, SVD\n",
    "from surprise.model_selection import cross_validate\n",
    "from collections import defaultdict"
   ]
  },
  {
   "cell_type": "markdown",
   "id": "7f496175",
   "metadata": {},
   "source": [
    "## Data Loading and Preparation"
   ]
  },
  {
   "cell_type": "code",
   "execution_count": 4,
   "id": "93ce6a0b",
   "metadata": {},
   "outputs": [
    {
     "name": "stdout",
     "output_type": "stream",
     "text": [
      "Data loaded into Surprise's format successfully.\n"
     ]
    },
    {
     "data": {
      "text/html": [
       "<div>\n",
       "<style scoped>\n",
       "    .dataframe tbody tr th:only-of-type {\n",
       "        vertical-align: middle;\n",
       "    }\n",
       "\n",
       "    .dataframe tbody tr th {\n",
       "        vertical-align: top;\n",
       "    }\n",
       "\n",
       "    .dataframe thead th {\n",
       "        text-align: right;\n",
       "    }\n",
       "</style>\n",
       "<table border=\"1\" class=\"dataframe\">\n",
       "  <thead>\n",
       "    <tr style=\"text-align: right;\">\n",
       "      <th></th>\n",
       "      <th>user_id</th>\n",
       "      <th>post_id</th>\n",
       "      <th>engagement</th>\n",
       "    </tr>\n",
       "  </thead>\n",
       "  <tbody>\n",
       "    <tr>\n",
       "      <th>0</th>\n",
       "      <td>U1</td>\n",
       "      <td>P52</td>\n",
       "      <td>1</td>\n",
       "    </tr>\n",
       "    <tr>\n",
       "      <th>1</th>\n",
       "      <td>U1</td>\n",
       "      <td>P44</td>\n",
       "      <td>0</td>\n",
       "    </tr>\n",
       "    <tr>\n",
       "      <th>2</th>\n",
       "      <td>U1</td>\n",
       "      <td>P1</td>\n",
       "      <td>1</td>\n",
       "    </tr>\n",
       "    <tr>\n",
       "      <th>3</th>\n",
       "      <td>U1</td>\n",
       "      <td>P4</td>\n",
       "      <td>1</td>\n",
       "    </tr>\n",
       "    <tr>\n",
       "      <th>4</th>\n",
       "      <td>U1</td>\n",
       "      <td>P65</td>\n",
       "      <td>0</td>\n",
       "    </tr>\n",
       "  </tbody>\n",
       "</table>\n",
       "</div>"
      ],
      "text/plain": [
       "  user_id post_id  engagement\n",
       "0      U1     P52           1\n",
       "1      U1     P44           0\n",
       "2      U1      P1           1\n",
       "3      U1      P4           1\n",
       "4      U1     P65           0"
      ]
     },
     "metadata": {},
     "output_type": "display_data"
    }
   ],
   "source": [
    "try:\n",
    "    engagements_df = pd.read_csv('../data/Engagements.csv')\n",
    "    posts_df = pd.read_csv('../data/Posts.csv')\n",
    "except FileNotFoundError:\n",
    "    print(\"Make sure your CSV files are in a 'data' folder one level above your notebook directory.\")\n",
    "\n",
    "\n",
    "reader = Reader(rating_scale=(0, 1))\n",
    "data = Dataset.load_from_df(engagements_df[['user_id', 'post_id', 'engagement']], reader)\n",
    "print(\"Data loaded into Surprise's format successfully.\")\n",
    "display(engagements_df.head())"
   ]
  },
  {
   "cell_type": "markdown",
   "id": "397056f6",
   "metadata": {},
   "source": [
    "## Model Training (SVD)"
   ]
  },
  {
   "cell_type": "code",
   "execution_count": 5,
   "id": "62df45ee",
   "metadata": {},
   "outputs": [
    {
     "name": "stdout",
     "output_type": "stream",
     "text": [
      "Training the SVD model...\n",
      "Model training complete.\n"
     ]
    }
   ],
   "source": [
    "trainset = data.build_full_trainset()\n",
    "svd_model = SVD(n_factors=50, n_epochs=20, random_state=42)\n",
    "print(\"Training the SVD model...\")\n",
    "svd_model.fit(trainset)\n",
    "print(\"Model training complete.\")"
   ]
  },
  {
   "cell_type": "markdown",
   "id": "0da7d205",
   "metadata": {},
   "source": [
    "## Model Evaluation"
   ]
  },
  {
   "cell_type": "code",
   "execution_count": 6,
   "id": "69dca8a2",
   "metadata": {},
   "outputs": [
    {
     "name": "stdout",
     "output_type": "stream",
     "text": [
      "\n",
      "Running 5-fold cross-validation...\n",
      "Evaluating RMSE, MAE of algorithm SVD on 5 split(s).\n",
      "\n",
      "                  Fold 1  Fold 2  Fold 3  Fold 4  Fold 5  Mean    Std     \n",
      "RMSE (testset)    0.5090  0.5367  0.5221  0.5338  0.5034  0.5210  0.0132  \n",
      "MAE (testset)     0.4894  0.5131  0.5024  0.5075  0.4841  0.4993  0.0109  \n",
      "Fit time          0.01    0.01    0.01    0.01    0.01    0.01    0.00    \n",
      "Test time         0.00    0.00    0.00    0.00    0.00    0.00    0.00    \n",
      "\n",
      "--- Cross-Validation Results ---\n",
      "Average RMSE: 0.5210\n",
      "Average MAE:  0.4993\n"
     ]
    }
   ],
   "source": [
    "print(\"\\nRunning 5-fold cross-validation...\")\n",
    "cv_results = cross_validate(SVD(n_factors=50, n_epochs=20, random_state=42), data, measures=['RMSE', 'MAE'], cv=5, verbose=True)\n",
    "print(\"\\n--- Cross-Validation Results ---\")\n",
    "print(f\"Average RMSE: {cv_results['test_rmse'].mean():.4f}\")\n",
    "print(f\"Average MAE:  {cv_results['test_mae'].mean():.4f}\")"
   ]
  },
  {
   "cell_type": "markdown",
   "id": "0284cb6c",
   "metadata": {},
   "source": [
    "## Generating Recommendations"
   ]
  },
  {
   "cell_type": "code",
   "execution_count": 7,
   "id": "c3a0975f",
   "metadata": {},
   "outputs": [],
   "source": [
    "def get_collaborative_filtering_recommendations(user_id, top_n=3):\n",
    "    all_post_ids = posts_df['post_id'].unique()\n",
    "    engaged_posts = engagements_df[engagements_df['user_id'] == user_id]['post_id'].unique()\n",
    "    \n",
    "    predictions = []\n",
    "    for post_id in all_post_ids:\n",
    "        if post_id not in engaged_posts:\n",
    "            predicted_rating = svd_model.predict(user_id, post_id).est\n",
    "            predictions.append((post_id, predicted_rating))\n",
    "            \n",
    "    predictions.sort(key=lambda x: x[1], reverse=True)\n",
    "    top_post_ids = [post_id for post_id, rating in predictions[:top_n]]\n",
    "    \n",
    "    recommended_posts_details = posts_df[posts_df['post_id'].isin(top_post_ids)]\n",
    "    scores_map = dict(predictions[:top_n])\n",
    "    recommended_posts_details['predicted_engagement'] = recommended_posts_details['post_id'].map(scores_map)\n",
    "    \n",
    "    return recommended_posts_details.sort_values('predicted_engagement', ascending=False)"
   ]
  },
  {
   "cell_type": "markdown",
   "id": "45275590",
   "metadata": {},
   "source": [
    "## Recommendations for User 'U14'"
   ]
  },
  {
   "cell_type": "code",
   "execution_count": 12,
   "id": "656de54b",
   "metadata": {},
   "outputs": [
    {
     "name": "stdout",
     "output_type": "stream",
     "text": [
      "\n",
      "--- Recommendations for U14 (Based on Similar Users) ---\n"
     ]
    },
    {
     "name": "stderr",
     "output_type": "stream",
     "text": [
      "C:\\Users\\yuvat\\AppData\\Local\\Temp\\ipykernel_38800\\3375440929.py:16: SettingWithCopyWarning: \n",
      "A value is trying to be set on a copy of a slice from a DataFrame.\n",
      "Try using .loc[row_indexer,col_indexer] = value instead\n",
      "\n",
      "See the caveats in the documentation: https://pandas.pydata.org/pandas-docs/stable/user_guide/indexing.html#returning-a-view-versus-a-copy\n",
      "  recommended_posts_details['predicted_engagement'] = recommended_posts_details['post_id'].map(scores_map)\n"
     ]
    },
    {
     "data": {
      "text/html": [
       "<div>\n",
       "<style scoped>\n",
       "    .dataframe tbody tr th:only-of-type {\n",
       "        vertical-align: middle;\n",
       "    }\n",
       "\n",
       "    .dataframe tbody tr th {\n",
       "        vertical-align: top;\n",
       "    }\n",
       "\n",
       "    .dataframe thead th {\n",
       "        text-align: right;\n",
       "    }\n",
       "</style>\n",
       "<table border=\"1\" class=\"dataframe\">\n",
       "  <thead>\n",
       "    <tr style=\"text-align: right;\">\n",
       "      <th></th>\n",
       "      <th>post_id</th>\n",
       "      <th>tags</th>\n",
       "      <th>predicted_engagement</th>\n",
       "    </tr>\n",
       "  </thead>\n",
       "  <tbody>\n",
       "    <tr>\n",
       "      <th>87</th>\n",
       "      <td>P88</td>\n",
       "      <td>literature</td>\n",
       "      <td>0.692874</td>\n",
       "    </tr>\n",
       "    <tr>\n",
       "      <th>56</th>\n",
       "      <td>P57</td>\n",
       "      <td>sports, literature</td>\n",
       "      <td>0.654068</td>\n",
       "    </tr>\n",
       "    <tr>\n",
       "      <th>8</th>\n",
       "      <td>P9</td>\n",
       "      <td>travel</td>\n",
       "      <td>0.650805</td>\n",
       "    </tr>\n",
       "  </tbody>\n",
       "</table>\n",
       "</div>"
      ],
      "text/plain": [
       "   post_id                tags  predicted_engagement\n",
       "87     P88          literature              0.692874\n",
       "56     P57  sports, literature              0.654068\n",
       "8       P9              travel              0.650805"
      ]
     },
     "metadata": {},
     "output_type": "display_data"
    }
   ],
   "source": [
    "test_user = 'U14'\n",
    "recommendations = get_collaborative_filtering_recommendations(test_user)\n",
    "print(f\"\\n--- Recommendations for {test_user} (Based on Similar Users) ---\")\n",
    "display(recommendations[['post_id', 'tags', 'predicted_engagement']])"
   ]
  },
  {
   "cell_type": "markdown",
   "id": "00cceb26",
   "metadata": {},
   "source": [
    "## Why Were These Recommended?"
   ]
  },
  {
   "cell_type": "code",
   "execution_count": 13,
   "id": "239cefd3",
   "metadata": {},
   "outputs": [],
   "source": [
    "def get_similar_users(user_id, top_n=5):\n",
    "    try:\n",
    "        target_user_inner_id = trainset.to_inner_uid(user_id)\n",
    "    except ValueError:\n",
    "        return f\"User {user_id} not in the training set.\"\n",
    "\n",
    "    target_user_vector = svd_model.pu[target_user_inner_id]\n",
    "    similarities = []\n",
    "    for inner_id, vector in enumerate(svd_model.pu):\n",
    "        if inner_id != target_user_inner_id:\n",
    "            sim = np.dot(target_user_vector, vector) / (np.linalg.norm(target_user_vector) * np.linalg.norm(vector))\n",
    "            similarities.append((trainset.to_raw_uid(inner_id), sim))\n",
    "\n",
    "    similarities.sort(key=lambda x: x[1], reverse=True)\n",
    "    return similarities[:top_n]"
   ]
  },
  {
   "cell_type": "code",
   "execution_count": 14,
   "id": "a9b7ebc6",
   "metadata": {},
   "outputs": [
    {
     "name": "stdout",
     "output_type": "stream",
     "text": [
      "\n",
      "Top 5 users most similar to U14:\n",
      "  - User: U30, Similarity Score: 0.3432\n",
      "  - User: U10, Similarity Score: 0.2456\n",
      "  - User: U33, Similarity Score: 0.2102\n",
      "  - User: U18, Similarity Score: 0.2041\n",
      "  - User: U4, Similarity Score: 0.1800\n"
     ]
    }
   ],
   "source": [
    "similar_users = get_similar_users(test_user)\n",
    "print(f\"\\nTop 5 users most similar to {test_user}:\")\n",
    "for user, score in similar_users:\n",
    "    print(f\"  - User: {user}, Similarity Score: {score:.4f}\")"
   ]
  },
  {
   "cell_type": "code",
   "execution_count": 11,
   "id": "6b7399ca",
   "metadata": {},
   "outputs": [
    {
     "name": "stdout",
     "output_type": "stream",
     "text": [
      "\n",
      "Posts that a similar user (U5) engaged with (engagement=1):\n"
     ]
    },
    {
     "data": {
      "text/html": [
       "<div>\n",
       "<style scoped>\n",
       "    .dataframe tbody tr th:only-of-type {\n",
       "        vertical-align: middle;\n",
       "    }\n",
       "\n",
       "    .dataframe tbody tr th {\n",
       "        vertical-align: top;\n",
       "    }\n",
       "\n",
       "    .dataframe thead th {\n",
       "        text-align: right;\n",
       "    }\n",
       "</style>\n",
       "<table border=\"1\" class=\"dataframe\">\n",
       "  <thead>\n",
       "    <tr style=\"text-align: right;\">\n",
       "      <th></th>\n",
       "      <th>user_id</th>\n",
       "      <th>post_id</th>\n",
       "      <th>engagement</th>\n",
       "      <th>creator_id</th>\n",
       "      <th>content_type</th>\n",
       "      <th>tags</th>\n",
       "    </tr>\n",
       "  </thead>\n",
       "  <tbody>\n",
       "    <tr>\n",
       "      <th>0</th>\n",
       "      <td>U5</td>\n",
       "      <td>P92</td>\n",
       "      <td>1</td>\n",
       "      <td>U36</td>\n",
       "      <td>text</td>\n",
       "      <td>tech, food</td>\n",
       "    </tr>\n",
       "    <tr>\n",
       "      <th>1</th>\n",
       "      <td>U5</td>\n",
       "      <td>P3</td>\n",
       "      <td>1</td>\n",
       "      <td>U32</td>\n",
       "      <td>text</td>\n",
       "      <td>sports, travel</td>\n",
       "    </tr>\n",
       "    <tr>\n",
       "      <th>2</th>\n",
       "      <td>U5</td>\n",
       "      <td>P21</td>\n",
       "      <td>1</td>\n",
       "      <td>U16</td>\n",
       "      <td>image</td>\n",
       "      <td>art, literature</td>\n",
       "    </tr>\n",
       "    <tr>\n",
       "      <th>3</th>\n",
       "      <td>U5</td>\n",
       "      <td>P28</td>\n",
       "      <td>1</td>\n",
       "      <td>U3</td>\n",
       "      <td>text</td>\n",
       "      <td>sports</td>\n",
       "    </tr>\n",
       "    <tr>\n",
       "      <th>4</th>\n",
       "      <td>U5</td>\n",
       "      <td>P37</td>\n",
       "      <td>1</td>\n",
       "      <td>U18</td>\n",
       "      <td>text</td>\n",
       "      <td>tech, music</td>\n",
       "    </tr>\n",
       "    <tr>\n",
       "      <th>5</th>\n",
       "      <td>U5</td>\n",
       "      <td>P46</td>\n",
       "      <td>1</td>\n",
       "      <td>U30</td>\n",
       "      <td>video</td>\n",
       "      <td>food, sports</td>\n",
       "    </tr>\n",
       "    <tr>\n",
       "      <th>6</th>\n",
       "      <td>U5</td>\n",
       "      <td>P79</td>\n",
       "      <td>1</td>\n",
       "      <td>U35</td>\n",
       "      <td>image</td>\n",
       "      <td>literature</td>\n",
       "    </tr>\n",
       "    <tr>\n",
       "      <th>7</th>\n",
       "      <td>U5</td>\n",
       "      <td>P89</td>\n",
       "      <td>1</td>\n",
       "      <td>U35</td>\n",
       "      <td>image</td>\n",
       "      <td>music</td>\n",
       "    </tr>\n",
       "  </tbody>\n",
       "</table>\n",
       "</div>"
      ],
      "text/plain": [
       "  user_id post_id  engagement creator_id content_type             tags\n",
       "0      U5     P92           1        U36         text       tech, food\n",
       "1      U5      P3           1        U32         text   sports, travel\n",
       "2      U5     P21           1        U16        image  art, literature\n",
       "3      U5     P28           1         U3         text           sports\n",
       "4      U5     P37           1        U18         text      tech, music\n",
       "5      U5     P46           1        U30        video     food, sports\n",
       "6      U5     P79           1        U35        image       literature\n",
       "7      U5     P89           1        U35        image            music"
      ]
     },
     "metadata": {},
     "output_type": "display_data"
    }
   ],
   "source": [
    "similar_user_id = similar_users[0][0]\n",
    "print(f\"\\nPosts that a similar user ({similar_user_id}) engaged with (engagement=1):\")\n",
    "display(engagements_df[(engagements_df['user_id'] == similar_user_id) & (engagements_df['engagement'] == 1)].merge(posts_df, on='post_id'))"
   ]
  },
  {
   "cell_type": "code",
   "execution_count": null,
   "id": "4aab164b",
   "metadata": {},
   "outputs": [],
   "source": []
  }
 ],
 "metadata": {
  "kernelspec": {
   "display_name": "venv310",
   "language": "python",
   "name": "python3"
  },
  "language_info": {
   "codemirror_mode": {
    "name": "ipython",
    "version": 3
   },
   "file_extension": ".py",
   "mimetype": "text/x-python",
   "name": "python",
   "nbconvert_exporter": "python",
   "pygments_lexer": "ipython3",
   "version": "3.10.0"
  }
 },
 "nbformat": 4,
 "nbformat_minor": 5
}
